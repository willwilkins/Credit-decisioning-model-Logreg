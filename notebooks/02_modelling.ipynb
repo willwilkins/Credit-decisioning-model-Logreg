{
 "cells": [
  {
   "cell_type": "markdown",
   "id": "2032a2b4",
   "metadata": {},
   "source": [
    "# Logistic Regression Pipeline for German Credit Decisioning Model"
   ]
  },
  {
   "cell_type": "markdown",
   "id": "040a0148",
   "metadata": {},
   "source": [
    "Include ALL features - incl discriminative ones.\n",
    "\n",
    "In next, only include four features with AUC scores >0.1 away from 0.5"
   ]
  },
  {
   "cell_type": "code",
   "execution_count": 1,
   "id": "84fcf78a",
   "metadata": {},
   "outputs": [],
   "source": [
    "import pandas as pd\n",
    "import numpy as np\n",
    "import matplotlib.pyplot as plt\n",
    "import seaborn as sns"
   ]
  },
  {
   "cell_type": "code",
   "execution_count": 6,
   "id": "0478b09c",
   "metadata": {},
   "outputs": [],
   "source": [
    "from ucimlrepo import fetch_ucirepo"
   ]
  },
  {
   "cell_type": "code",
   "execution_count": 12,
   "id": "b2c315d1",
   "metadata": {},
   "outputs": [
    {
     "data": {
      "text/plain": [
       "'# metadata \\nprint(\"metadata:\\n\")\\ndisplay(metadata)\\n\\n# variable information \\nprint(\"variable information:\\n\")\\ndisplay(variable_info) '"
      ]
     },
     "execution_count": 12,
     "metadata": {},
     "output_type": "execute_result"
    }
   ],
   "source": [
    "# fetch dataset \n",
    "statlog_german_credit_data = fetch_ucirepo(id=144) \n",
    "\n",
    "metadata = statlog_german_credit_data.metadata\n",
    "variable_info = statlog_german_credit_data.variables\n",
    "\n",
    "\"\"\"# metadata \n",
    "print(\"metadata:\\n\")\n",
    "display(metadata)\n",
    "  \n",
    "# variable information \n",
    "print(\"variable information:\\n\")\n",
    "display(variable_info) \"\"\"\n"
   ]
  },
  {
   "cell_type": "code",
   "execution_count": 13,
   "id": "07724f4e",
   "metadata": {},
   "outputs": [],
   "source": [
    "# data (as pandas dataframes) \n",
    "df = statlog_german_credit_data.data\n",
    "\n",
    "X = df.features \n",
    "y = df.targets"
   ]
  },
  {
   "cell_type": "code",
   "execution_count": 14,
   "id": "844838da",
   "metadata": {},
   "outputs": [
    {
     "name": "stdout",
     "output_type": "stream",
     "text": [
      "Numeric columns: ['Attribute2', 'Attribute5', 'Attribute8', 'Attribute11', 'Attribute13', 'Attribute16', 'Attribute18']\n",
      "Categorical columns: ['Attribute1', 'Attribute3', 'Attribute4', 'Attribute6', 'Attribute7', 'Attribute9', 'Attribute10', 'Attribute12', 'Attribute14', 'Attribute15', 'Attribute17', 'Attribute19', 'Attribute20']\n"
     ]
    }
   ],
   "source": [
    "# Separate numeric and categorical columns\n",
    "\n",
    "# Select columns that are integers in variable_info['type] \n",
    "numeric_cols = variable_info[variable_info['type'] == 'Integer']['name'].tolist()\n",
    "categorical_cols = variable_info[variable_info['type'] == 'Categorical']['name'].tolist()\n",
    "binary_cols = variable_info[variable_info['type'] == 'Binary']['name'].tolist()\n",
    "\n",
    "# remove class from binary_cols\n",
    "binary_cols.remove('class')\n",
    "\n",
    "# Add binary columns to categorical columns\n",
    "categorical_cols += binary_cols\n",
    "\n",
    "#numeric_cols = X.select_dtypes(include=[np.number]).columns.tolist()\n",
    "#categorical_cols = X.select_dtypes(exclude=[np.number]).columns.tolist()\n",
    "print(\"Numeric columns:\", numeric_cols)\n",
    "print(\"Categorical columns:\", categorical_cols)"
   ]
  },
  {
   "cell_type": "code",
   "execution_count": 15,
   "id": "31211278",
   "metadata": {},
   "outputs": [
    {
     "name": "stderr",
     "output_type": "stream",
     "text": [
      "C:\\Users\\Willi\\AppData\\Local\\Temp\\ipykernel_23864\\1673708299.py:8: SettingWithCopyWarning: \n",
      "A value is trying to be set on a copy of a slice from a DataFrame.\n",
      "Try using .loc[row_indexer,col_indexer] = value instead\n",
      "\n",
      "See the caveats in the documentation: https://pandas.pydata.org/pandas-docs/stable/user_guide/indexing.html#returning-a-view-versus-a-copy\n",
      "  X[attribute] = pd.Categorical(X[attribute])\n"
     ]
    }
   ],
   "source": [
    "# Move Attribute8, Attribute11, Attribute16 and Attribute18 from numeric to categorical\n",
    "# Convert the columns to categorical\n",
    "few_count_integer_attributes = ['Attribute8', 'Attribute11', 'Attribute16', 'Attribute18']\n",
    "for attribute in few_count_integer_attributes:\n",
    "    if attribute in numeric_cols:\n",
    "        if attribute not in categorical_cols:       \n",
    "            # Convert the column to categorical\n",
    "            X[attribute] = pd.Categorical(X[attribute])\n",
    "            # Remove the column from numeric_cols\n",
    "            numeric_cols.remove(attribute)\n",
    "            # Add the column to categorical_cols\n",
    "            categorical_cols.append(attribute)\n",
    "        else:\n",
    "            continue\n",
    "            print(f\"Column {attribute} is already in categorical_cols\")\n",
    "    else:\n",
    "        continue\n",
    "        print(f\"Column {attribute} is not in numeric_cols\")\n",
    "\n",
    "# check\n",
    "#print(\"Expected numeric columns:\",'2, 5, 13')\n",
    "assert numeric_cols == ['Attribute2', 'Attribute5', 'Attribute13'], \"Numeric columns do not match expected values\"\n",
    "#print(\"Numeric columns after moving:\", numeric_cols)\n",
    "\n",
    "# assert that X.columns is made up of numeric_cols and categorical_cols\n",
    "\n",
    "# Check if any columns in X are missing from numeric_cols or categorical_cols\n",
    "missing_cols_2 = set(X.columns) - set(numeric_cols) - set(categorical_cols)\n",
    "if missing_cols_2:\n",
    "    print(\"Columns in X that are not in numeric_cols or categorical_cols:\\n\", missing_cols_2)\n",
    "\n",
    "# Check if the columns in X are the same as numeric_cols + categorical_col\n",
    "assert set(X.columns) == set(numeric_cols + categorical_cols), \"X columns do not match numeric and categorical columns\"\n",
    "\n"
   ]
  },
  {
   "cell_type": "markdown",
   "id": "74515ffd",
   "metadata": {},
   "source": [
    "## Create pipeline"
   ]
  },
  {
   "cell_type": "code",
   "execution_count": null,
   "id": "93916f03",
   "metadata": {},
   "outputs": [],
   "source": [
    "# Import libraries needed for logistic regression\n",
    "from sklearn.linear_model import LogisticRegression\n",
    "from sklearn.model_selection import train_test_split\n",
    "from sklearn.metrics import classification_report, confusion_matrix\n",
    "from sklearn.metrics import roc_auc_score, roc_curve\n",
    "from sklearn.metrics import accuracy_score\n",
    "from sklearn.metrics import precision_score, recall_score, f1_score\n",
    "from sklearn.metrics import ConfusionMatrixDisplay\n",
    "from sklearn.metrics import RocCurveDisplay\n",
    "from sklearn.pipeline import Pipeline\n",
    "from sklearn.compose import ColumnTransformer\n",
    "from sklearn.preprocessing import OneHotEncoder\n",
    "from sklearn.preprocessing import StandardScaler\n",
    "from sklearn.impute import SimpleImputer\n"
   ]
  },
  {
   "cell_type": "code",
   "execution_count": null,
   "id": "cf187027",
   "metadata": {},
   "outputs": [],
   "source": [
    "# Create a column transformer to handle categorical and numeric features separately\n",
    "numeric_transformer = Pipeline(steps=[\n",
    "    ('imputer', SimpleImputer(strategy='mean')),\n",
    "    ('scaler', StandardScaler())\n",
    "])\n",
    "categorical_transformer = Pipeline(steps=[\n",
    "    #('imputer', SimpleImputer(strategy='most_frequent')),\n",
    "    ('onehot', OneHotEncoder(handle_unknown='ignore'))\n",
    "])\n",
    "preprocessor = ColumnTransformer(\n",
    "    transformers=[\n",
    "        ('num', numeric_transformer, numeric_cols),\n",
    "        ('cat', categorical_transformer, categorical_cols)\n",
    "    ]\n",
    ")\n"
   ]
  },
  {
   "cell_type": "code",
   "execution_count": null,
   "id": "a4432b6a",
   "metadata": {},
   "outputs": [],
   "source": [
    "# Define the model\n",
    "model = LogisticRegression(max_iter=1000, random_state=42)\n",
    "# Split the data into training and testing sets\n",
    "X_train, X_test, y_train, y_test = train_test_split(X, y, test_size=0.2, random_state=42)\n",
    "# wait - shouldn't I be using the same split from univ AUC testing in data exploration to prevent data leakage?\n"
   ]
  }
 ],
 "metadata": {
  "kernelspec": {
   "display_name": "Python 3",
   "language": "python",
   "name": "python3"
  },
  "language_info": {
   "codemirror_mode": {
    "name": "ipython",
    "version": 3
   },
   "file_extension": ".py",
   "mimetype": "text/x-python",
   "name": "python",
   "nbconvert_exporter": "python",
   "pygments_lexer": "ipython3",
   "version": "3.13.7"
  }
 },
 "nbformat": 4,
 "nbformat_minor": 5
}
